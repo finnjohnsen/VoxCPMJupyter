{
 "cells": [
  {
   "cell_type": "code",
   "execution_count": 1,
   "id": "7de8ff4b",
   "metadata": {},
   "outputs": [
    {
     "name": "stdout",
     "output_type": "stream",
     "text": [
      "Successfully converted 'input/olga-engelsk.mp3' to 'input/olga-engelsk.wav'\n"
     ]
    },
    {
     "name": "stderr",
     "output_type": "stream",
     "text": [
      "/home/finn/src/VoxCPMTest/.venv/lib/python3.13/site-packages/pydub/utils.py:300: SyntaxWarning: invalid escape sequence '\\('\n",
      "  m = re.match('([su]([0-9]{1,2})p?) \\(([0-9]{1,2}) bit\\)$', token)\n",
      "/home/finn/src/VoxCPMTest/.venv/lib/python3.13/site-packages/pydub/utils.py:301: SyntaxWarning: invalid escape sequence '\\('\n",
      "  m2 = re.match('([su]([0-9]{1,2})p?)( \\(default\\))?$', token)\n",
      "/home/finn/src/VoxCPMTest/.venv/lib/python3.13/site-packages/pydub/utils.py:310: SyntaxWarning: invalid escape sequence '\\('\n",
      "  elif re.match('(flt)p?( \\(default\\))?$', token):\n",
      "/home/finn/src/VoxCPMTest/.venv/lib/python3.13/site-packages/pydub/utils.py:314: SyntaxWarning: invalid escape sequence '\\('\n",
      "  elif re.match('(dbl)p?( \\(default\\))?$', token):\n"
     ]
    }
   ],
   "source": [
    "from pydub import AudioSegment\n",
    "import os\n",
    "\n",
    "# Define the input and output file paths\n",
    "input_file = \"input/olga-engelsk.mp3\"  # Replace with the actual path to your MP3 file\n",
    "output_file = \"input/olga-engelsk.wav\" # Desired output WAV file path\n",
    "\n",
    "# Check if the input file exists\n",
    "if not os.path.exists(input_file):\n",
    "    print(f\"Error: Input file '{input_file}' not found.\")\n",
    "else:\n",
    "    try:\n",
    "        # Load the MP3 file\n",
    "        sound = AudioSegment.from_mp3(input_file)\n",
    "\n",
    "        # Export the audio as a WAV file\n",
    "        sound.export(output_file, format=\"wav\")\n",
    "\n",
    "        print(f\"Successfully converted '{input_file}' to '{output_file}'\")\n",
    "\n",
    "    except Exception as e:\n",
    "        print(f\"An error occurred during conversion: {e}\")"
   ]
  }
 ],
 "metadata": {
  "kernelspec": {
   "display_name": ".venv",
   "language": "python",
   "name": "python3"
  },
  "language_info": {
   "codemirror_mode": {
    "name": "ipython",
    "version": 3
   },
   "file_extension": ".py",
   "mimetype": "text/x-python",
   "name": "python",
   "nbconvert_exporter": "python",
   "pygments_lexer": "ipython3",
   "version": "3.13.2"
  }
 },
 "nbformat": 4,
 "nbformat_minor": 5
}
