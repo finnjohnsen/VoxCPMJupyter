{
 "cells": [
  {
   "cell_type": "markdown",
   "id": "92784f2a",
   "metadata": {},
   "source": []
  },
  {
   "cell_type": "code",
   "execution_count": null,
   "id": "2329c319",
   "metadata": {},
   "outputs": [],
   "source": [
    "mp3_file=\"input/some-voice-person.mp3\""
   ]
  },
  {
   "cell_type": "markdown",
   "id": "6f0256d4",
   "metadata": {},
   "source": [
    "## Start model\n",
    "Run this only once. It is slow."
   ]
  },
  {
   "cell_type": "code",
   "execution_count": 46,
   "id": "fec3a8a5",
   "metadata": {},
   "outputs": [
    {
     "data": {
      "application/vnd.jupyter.widget-view+json": {
       "model_id": "c4e1f5d5abea4b89b3aca044735a65aa",
       "version_major": 2,
       "version_minor": 0
      },
      "text/plain": [
       "Fetching 12 files:   0%|          | 0/12 [00:00<?, ?it/s]"
      ]
     },
     "metadata": {},
     "output_type": "display_data"
    },
    {
     "name": "stdout",
     "output_type": "stream",
     "text": [
      "voxcpm_model_path: /home/finn/.cache/huggingface/hub/models--openbmb--VoxCPM-0.5B/snapshots/f67d35a3848e0bec0fdb8c33e6fc92cf293ee72f, zipenhancer_model_path: iic/speech_zipenhancer_ans_multiloss_16k_base, enable_denoiser: True\n",
      "Downloading Model from https://www.modelscope.cn to directory: /home/finn/.cache/modelscope/hub/models/iic/speech_zipenhancer_ans_multiloss_16k_base\n"
     ]
    },
    {
     "name": "stderr",
     "output_type": "stream",
     "text": [
      "2025-09-25 20:55:43,124 - modelscope - INFO - initiate model from /home/finn/.cache/modelscope/hub/models/iic/speech_zipenhancer_ans_multiloss_16k_base\n",
      "2025-09-25 20:55:43,125 - modelscope - INFO - initiate model from location /home/finn/.cache/modelscope/hub/models/iic/speech_zipenhancer_ans_multiloss_16k_base.\n",
      "2025-09-25 20:55:43,125 - modelscope - INFO - initialize model from /home/finn/.cache/modelscope/hub/models/iic/speech_zipenhancer_ans_multiloss_16k_base\n",
      "2025-09-25 20:55:43,205 - modelscope - WARNING - No preprocessor field found in cfg.\n",
      "2025-09-25 20:55:43,206 - modelscope - WARNING - No val key and type key found in preprocessor domain of configuration.json file.\n",
      "2025-09-25 20:55:43,206 - modelscope - WARNING - Cannot find available config to build preprocessor at mode inference, current config: {'model_dir': '/home/finn/.cache/modelscope/hub/models/iic/speech_zipenhancer_ans_multiloss_16k_base'}. trying to build by task and model information.\n",
      "2025-09-25 20:55:43,206 - modelscope - INFO - No preprocessor key ('speech_zipenhancer_ans_multiloss_16k_base', 'acoustic-noise-suppression') found in PREPROCESSOR_MAP, skip building preprocessor. If the pipeline runs normally, please ignore this log.\n"
     ]
    },
    {
     "name": "stdout",
     "output_type": "stream",
     "text": [
      "Warm up VoxCPMModel...\n"
     ]
    },
    {
     "name": "stderr",
     "output_type": "stream",
     "text": [
      "100%|██████████| 10/10 [00:01<00:00,  5.20it/s]\n"
     ]
    }
   ],
   "source": [
    "import soundfile as sf\n",
    "import numpy as np\n",
    "from voxcpm import VoxCPM\n",
    "\n",
    "model = VoxCPM.from_pretrained(\"openbmb/VoxCPM-0.5B\")"
   ]
  },
  {
   "cell_type": "markdown",
   "id": "8d49a4cb",
   "metadata": {},
   "source": [
    "## Start SenseVoiceSmall model, Transcribe"
   ]
  },
  {
   "cell_type": "code",
   "execution_count": 47,
   "id": "27fc3893",
   "metadata": {},
   "outputs": [
    {
     "name": "stdout",
     "output_type": "stream",
     "text": [
      "funasr version: 1.2.7.\n",
      "Downloading Model from https://www.modelscope.cn to directory: /home/finn/.cache/modelscope/hub/models/iic/SenseVoiceSmall\n"
     ]
    },
    {
     "name": "stderr",
     "output_type": "stream",
     "text": [
      "WARNING:root:trust_remote_code: False\n"
     ]
    },
    {
     "name": "stdout",
     "output_type": "stream",
     "text": [
      "Downloading Model from https://www.modelscope.cn to directory: /home/finn/.cache/modelscope/hub/models/iic/speech_fsmn_vad_zh-cn-16k-common-pytorch\n"
     ]
    },
    {
     "name": "stderr",
     "output_type": "stream",
     "text": [
      "WARNING:root:trust_remote_code: False\n"
     ]
    }
   ],
   "source": [
    "from funasr import AutoModel\n",
    "from funasr.utils.postprocess_utils import rich_transcription_postprocess\n",
    "\n",
    "model_dir = \"iic/SenseVoiceSmall\"\n",
    "sense_model = AutoModel(\n",
    "    model=model_dir,\n",
    "    disable_update=True, # Fjern hvis du vil oppdatere\n",
    "    vad_model=\"fsmn-vad\",\n",
    "    vad_kwargs={\"max_single_segment_time\": 30000},\n",
    "    device=\"cuda:0\",\n",
    ")"
   ]
  },
  {
   "cell_type": "markdown",
   "id": "65dda338",
   "metadata": {},
   "source": [
    "## Transcripbe mp3->text"
   ]
  },
  {
   "cell_type": "code",
   "execution_count": 64,
   "id": "4de48574",
   "metadata": {},
   "outputs": [
    {
     "name": "stderr",
     "output_type": "stream",
     "text": [
      "rtf_avg: 0.002: 100%|\u001b[34m██████████\u001b[0m| 1/1 [00:00<00:00, 25.60it/s]                                                                                          \n",
      "rtf_avg: 0.002: 100%|\u001b[34m██████████\u001b[0m| 1/1 [00:00<00:00, 41.30it/s]\n",
      "rtf_avg: 0.002, time_speech:  14.720, time_escape: 0.027: 100%|\u001b[31m██████████\u001b[0m| 1/1 [00:00<00:00, 26.96it/s]"
     ]
    },
    {
     "name": "stdout",
     "output_type": "stream",
     "text": [
      "And that might scare some people. It scares me. I've had to kill projects use using event sourcing at least one time in my career because they basically did what I talked about earlier, right with the what beginners do.\n"
     ]
    },
    {
     "name": "stderr",
     "output_type": "stream",
     "text": [
      "\n"
     ]
    }
   ],
   "source": [
    "# en\n",
    "res = sense_model.generate(\n",
    "    input=f\"{mp3_file}\",\n",
    "    cache={},\n",
    "    language=\"auto\",  # \"zn\", \"en\", \"yue\", \"ja\", \"ko\", \"nospeech\"\n",
    "    use_itn=True,\n",
    "    batch_size_s=60,\n",
    "    merge_vad=True,  #\n",
    "    merge_length_s=15,\n",
    ")\n",
    "transcribed_text = rich_transcription_postprocess(res[0][\"text\"])\n",
    "print(transcribed_text)"
   ]
  },
  {
   "cell_type": "markdown",
   "id": "9ed20187",
   "metadata": {},
   "source": [
    "## mp3 to wav"
   ]
  },
  {
   "cell_type": "code",
   "execution_count": 67,
   "id": "445f72d0",
   "metadata": {},
   "outputs": [
    {
     "name": "stdout",
     "output_type": "stream",
     "text": [
      "Successfully converted 'input/august-datomic.mp3' to 'input/august-datomic.mp3.wav'\n"
     ]
    }
   ],
   "source": [
    "from pydub import AudioSegment\n",
    "import os\n",
    "wav_file = f\"{mp3_file}.wav\"\n",
    "if not os.path.exists(mp3_file):\n",
    "    print(f\"Error: Input file '{mp3_file}' not found.\")\n",
    "else:\n",
    "    try:\n",
    "        sound = AudioSegment.from_mp3(mp3_file)\n",
    "        sound.export(wav_file, format=\"wav\")\n",
    "        print(f\"Successfully converted '{mp3_file}' to '{wav_file}'\")\n",
    "    except Exception as e:\n",
    "        print(f\"An error occurred during conversion: {e}\")"
   ]
  },
  {
   "cell_type": "markdown",
   "id": "8423460e",
   "metadata": {},
   "source": [
    "## wav+transcribe -> output"
   ]
  },
  {
   "cell_type": "code",
   "execution_count": null,
   "id": "929e6ab3",
   "metadata": {},
   "outputs": [
    {
     "name": "stdout",
     "output_type": "stream",
     "text": [
      "inputs:(1, 235512)\n",
      "decode_do_segement\n",
      "padding: 12488\n",
      "inputs after padding:(1, 248000)\n",
      "current_idx: 240000 100.00%\n"
     ]
    },
    {
     "name": "stderr",
     "output_type": "stream",
     "text": [
      " 81%|████████  | 125/154 [00:03<00:00, 35.48it/s]"
     ]
    },
    {
     "name": "stdout",
     "output_type": "stream",
     "text": [
      "saved: output.wav\n"
     ]
    },
    {
     "name": "stderr",
     "output_type": "stream",
     "text": [
      "\n"
     ]
    }
   ],
   "source": [
    "wavOut = model.generate(\n",
    "    text=\"Tina is giving birth soon. I hope I am the father. The mail man around here is very handsome.\",\n",
    "    prompt_wav_path=f\"{wav_file}\",      # optional: path to a prompt speech for voice cloning\n",
    "    prompt_text=f\"{transcribed_text}\",          # optional: reference text\n",
    "    cfg_value=2.0,             # LM guidance on LocDiT, higher for better adherence to the prompt, but maybe worse\n",
    "    inference_timesteps=10,   # LocDiT inference timesteps, higher for better result, lower for fast speed\n",
    "    normalize=True,           # enable external TN tool\n",
    "    denoise=True,             # enable external Denoise tool\n",
    "    retry_badcase=True,        # enable retrying mode for some bad cases (unstoppable)\n",
    "    retry_badcase_max_times=3,  # maximum retrying times\n",
    "    retry_badcase_ratio_threshold=6.0, # maximum length restriction for bad case detection (simple but effective), it could be adjusted for slow pace speech\n",
    ")\n",
    "\n",
    "sf.write(\"output/output.wav\", wavOut, 16000)\n",
    "print(\"saved: output.wav\")"
   ]
  },
  {
   "cell_type": "markdown",
   "id": "9d0866c9",
   "metadata": {},
   "source": [
    "## Streaming .wav\n",
    "Havent tried this and dont know what its useful for."
   ]
  },
  {
   "cell_type": "code",
   "execution_count": null,
   "id": "235df185",
   "metadata": {},
   "outputs": [],
   "source": [
    "# Streaming\n",
    "chunks = []\n",
    "for chunk in model.generate_streaming(\n",
    "    text = \"Streaming text to speech is easy with VoxCPM!\",\n",
    "    # supports same args as above\n",
    "):\n",
    "    chunks.append(chunk)\n",
    "wav = np.concatenate(chunks)\n",
    "\n",
    "sf.write(\"output/streaming.wav\", wav, 16000)\n",
    "print(\"saved: output_streaming.wav\")"
   ]
  }
 ],
 "metadata": {
  "kernelspec": {
   "display_name": ".venv",
   "language": "python",
   "name": "python3"
  },
  "language_info": {
   "codemirror_mode": {
    "name": "ipython",
    "version": 3
   },
   "file_extension": ".py",
   "mimetype": "text/x-python",
   "name": "python",
   "nbconvert_exporter": "python",
   "pygments_lexer": "ipython3",
   "version": "3.13.2"
  }
 },
 "nbformat": 4,
 "nbformat_minor": 5
}
