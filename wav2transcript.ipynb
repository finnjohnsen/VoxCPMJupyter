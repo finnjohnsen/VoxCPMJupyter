{
 "cells": [
  {
   "cell_type": "code",
   "execution_count": 3,
   "id": "9972a883",
   "metadata": {},
   "outputs": [
    {
     "name": "stdout",
     "output_type": "stream",
     "text": [
      "funasr version: 1.2.7.\n",
      "Downloading Model from https://www.modelscope.cn to directory: /home/finn/.cache/modelscope/hub/models/iic/SenseVoiceSmall\n"
     ]
    },
    {
     "name": "stderr",
     "output_type": "stream",
     "text": [
      "WARNING:root:trust_remote_code: False\n"
     ]
    },
    {
     "name": "stdout",
     "output_type": "stream",
     "text": [
      "Downloading Model from https://www.modelscope.cn to directory: /home/finn/.cache/modelscope/hub/models/iic/speech_fsmn_vad_zh-cn-16k-common-pytorch\n"
     ]
    },
    {
     "name": "stderr",
     "output_type": "stream",
     "text": [
      "WARNING:root:trust_remote_code: False\n"
     ]
    }
   ],
   "source": [
    "from funasr import AutoModel\n",
    "from funasr.utils.postprocess_utils import rich_transcription_postprocess\n",
    "\n",
    "model_dir = \"iic/SenseVoiceSmall\"\n",
    "model = AutoModel(\n",
    "    model=model_dir,\n",
    "    disable_update=True, # Fjern hvis du vil oppdatere\n",
    "    vad_model=\"fsmn-vad\",\n",
    "    vad_kwargs={\"max_single_segment_time\": 30000},\n",
    "    device=\"cuda:0\",\n",
    ")"
   ]
  },
  {
   "cell_type": "code",
   "execution_count": 4,
   "id": "9d2a5a19",
   "metadata": {},
   "outputs": [
    {
     "name": "stderr",
     "output_type": "stream",
     "text": [
      "rtf_avg: 0.004: 100%|\u001b[34m██████████\u001b[0m| 1/1 [00:00<00:00, 10.68it/s]\n",
      "\n",
      "\u001b[A\n",
      "\u001b[A\n",
      "rtf_avg: 0.003: 100%|\u001b[34m██████████\u001b[0m| 1/1 [00:00<00:00, 13.61it/s]\n",
      "rtf_avg: 0.003, time_speech:  21.973, time_escape: 0.076: 100%|\u001b[31m██████████\u001b[0m| 1/1 [00:00<00:00, 11.15it/s]"
     ]
    },
    {
     "name": "stdout",
     "output_type": "stream",
     "text": [
      "No, Ambrose were the dearest of friends. You may always confide in me. You may even trouble me at times. I was honoured by your confidences, but in my desire to better understand you, I am afraid I am falling quite out of my depth. And what do these books tell you about me, Nothing, Alma replied. She could not help but laugh. And Ambrose laughed with her. She was quite exhausted.😔\n"
     ]
    },
    {
     "name": "stderr",
     "output_type": "stream",
     "text": [
      "\n"
     ]
    }
   ],
   "source": [
    "# en\n",
    "res = model.generate(\n",
    "    input=f\"input/olga-engelsk.mp3\",\n",
    "    cache={},\n",
    "    language=\"auto\",  # \"zn\", \"en\", \"yue\", \"ja\", \"ko\", \"nospeech\"\n",
    "    use_itn=True,\n",
    "    batch_size_s=60,\n",
    "    merge_vad=True,  #\n",
    "    merge_length_s=15,\n",
    ")\n",
    "text = rich_transcription_postprocess(res[0][\"text\"])\n",
    "print(text)"
   ]
  }
 ],
 "metadata": {
  "kernelspec": {
   "display_name": ".venv",
   "language": "python",
   "name": "python3"
  },
  "language_info": {
   "codemirror_mode": {
    "name": "ipython",
    "version": 3
   },
   "file_extension": ".py",
   "mimetype": "text/x-python",
   "name": "python",
   "nbconvert_exporter": "python",
   "pygments_lexer": "ipython3",
   "version": "3.13.2"
  }
 },
 "nbformat": 4,
 "nbformat_minor": 5
}
